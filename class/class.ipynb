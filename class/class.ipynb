{
 "cells": [
  {
   "cell_type": "markdown",
   "metadata": {},
   "source": [
    "## Python OOP Implementation"
   ]
  },
  {
   "cell_type": "code",
   "execution_count": 10,
   "metadata": {},
   "outputs": [
    {
     "name": "stdout",
     "output_type": "stream",
     "text": [
      "<__main__.Employee object at 0x1062cbd50>\n",
      "<__main__.Employee object at 0x1062c99d0>\n"
     ]
    }
   ],
   "source": [
    "class Employee:\n",
    "    pass\n",
    "\n",
    "\n",
    "emp1 = Employee()\n",
    "emp2 = Employee()\n",
    "\n",
    "print(emp1)\n",
    "print(emp2)"
   ]
  },
  {
   "cell_type": "code",
   "execution_count": 11,
   "metadata": {},
   "outputs": [
    {
     "name": "stdout",
     "output_type": "stream",
     "text": [
      "ujjawalpoudel@gmail.com\n",
      "testuser@gmail.com\n"
     ]
    }
   ],
   "source": [
    "# Now pass some values\n",
    "emp1.first = \"Ujjawal\"\n",
    "emp1.last = \"Poudel\"\n",
    "emp1.email = \"ujjawalpoudel@gmail.com\"\n",
    "\n",
    "emp2.first = \"Test\"\n",
    "emp2.last = \"User\"\n",
    "emp2.email = \"testuser@gmail.com\"\n",
    "\n",
    "print(emp1.email)\n",
    "print(emp2.email)"
   ]
  },
  {
   "cell_type": "code",
   "execution_count": 12,
   "metadata": {},
   "outputs": [
    {
     "name": "stdout",
     "output_type": "stream",
     "text": [
      "ujjawalpoudel@gmail.com\n",
      "ujjawalpoudel@gmail.com\n"
     ]
    }
   ],
   "source": [
    "# Now we pass some values to the class itself\n",
    "class Employee:\n",
    "    def __init__(self, first, last, pay):\n",
    "        self.first = first\n",
    "        self.last = last\n",
    "        self.pay = pay\n",
    "        self.email = first + last + \"@gmail.com\"\n",
    "\n",
    "\n",
    "emp1 = Employee(\"ujjawal\", \"poudel\", \"80000\")\n",
    "print(emp1.email)\n",
    "\n",
    "emp1.first = \"Test\"\n",
    "print(emp1.email)"
   ]
  },
  {
   "cell_type": "code",
   "execution_count": 13,
   "metadata": {},
   "outputs": [
    {
     "name": "stdout",
     "output_type": "stream",
     "text": [
      "ujjawalpoudel@gmail.com\n",
      "Test\n",
      "ujjawalpoudel@gmail.com\n"
     ]
    }
   ],
   "source": [
    "# Now we pass some values to the class itself\n",
    "class Employee:\n",
    "    def __init__(self, first, last, pay):\n",
    "        self.first = first\n",
    "        self.last = last\n",
    "        self.pay = pay\n",
    "        self.email = self.first + self.last + \"@gmail.com\"\n",
    "\n",
    "\n",
    "emp1 = Employee(\"ujjawal\", \"poudel\", \"80000\")\n",
    "print(emp1.email)\n",
    "\n",
    "emp1.first = \"Test\"\n",
    "print(emp1.first)\n",
    "print(emp1.email)"
   ]
  },
  {
   "cell_type": "code",
   "execution_count": null,
   "metadata": {},
   "outputs": [],
   "source": []
  }
 ],
 "metadata": {
  "kernelspec": {
   "display_name": "venv",
   "language": "python",
   "name": "python3"
  },
  "language_info": {
   "codemirror_mode": {
    "name": "ipython",
    "version": 3
   },
   "file_extension": ".py",
   "mimetype": "text/x-python",
   "name": "python",
   "nbconvert_exporter": "python",
   "pygments_lexer": "ipython3",
   "version": "3.11.1"
  }
 },
 "nbformat": 4,
 "nbformat_minor": 2
}
